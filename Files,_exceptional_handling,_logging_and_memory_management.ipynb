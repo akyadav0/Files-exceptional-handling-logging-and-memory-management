{
  "nbformat": 4,
  "nbformat_minor": 0,
  "metadata": {
    "colab": {
      "provenance": []
    },
    "kernelspec": {
      "name": "python3",
      "display_name": "Python 3"
    },
    "language_info": {
      "name": "python"
    }
  },
  "cells": [
    {
      "cell_type": "markdown",
      "source": [
        "# Files, exceptional handling, logging and memory management"
      ],
      "metadata": {
        "id": "kMW6SbwWmZgB"
      }
    },
    {
      "cell_type": "markdown",
      "source": [
        "1. What is the difference between interpreted and compiled languages?\n",
        "- **Interpreted languages** (like Python) are executed line by line by an interpreter at runtime.\n",
        "\n",
        "- **Compiled languages** (like C++) are translated into machine code before execution by a compiler.\n",
        "\n"
      ],
      "metadata": {
        "id": "FaiuIKSCmZdb"
      }
    },
    {
      "cell_type": "markdown",
      "source": [
        "2. What is exception handling in Python?\n",
        "- Exception handling is a mechanism to gracefully manage errors using try, except, else, and finally blocks."
      ],
      "metadata": {
        "id": "-oOWcd9hmZam"
      }
    },
    {
      "cell_type": "markdown",
      "source": [
        "3. What is the purpose of the finally block in exception handling?\n",
        "- The finally block in Python ensures that certain code runs regardless of whether an exception occurs or not. It is typically used for cleanup operations such as closing files or releasing resources"
      ],
      "metadata": {
        "id": "dZogG2ZUmZXf"
      }
    },
    {
      "cell_type": "markdown",
      "source": [
        "4. What is logging in Python?\n",
        "- Logging in Python refers to recording events or messages during program execution. The logging module allows developers to track issues, debug, and monitor applications efficiently by logging information at different levels (e.g., INFO, DEBUG, ERROR)"
      ],
      "metadata": {
        "id": "nVZtqUHfmZUl"
      }
    },
    {
      "cell_type": "markdown",
      "source": [
        "5. What is the significance of the __del__ method in Python?\n",
        "- The __del__ method in Python is called when an object is about to be destroyed. It is often used for cleanup tasks like closing connections or releasing resources before the object is garbage collected"
      ],
      "metadata": {
        "id": "N6Y5TOfbmZRd"
      }
    },
    {
      "cell_type": "markdown",
      "source": [
        "6. What is the difference between import and from ... import in Python?\n",
        "- **import:** Imports the entire module, requiring you to use the module name to access its members (e.g., math.sqrt).\n",
        "\n",
        "- **from ... import:** Imports specific attributes or functions from a module directly (e.g., sqrt from math) without needing the module prefix"
      ],
      "metadata": {
        "id": "m5iS2JxLmZOU"
      }
    },
    {
      "cell_type": "markdown",
      "source": [
        "7. How can you handle multiple exceptions in Python?\n",
        "- Multiple exceptions can be handled using:\n",
        "\n",
        "A single except block with a tuple of exceptions (e.g., except (TypeError, ValueError):).\n",
        "\n",
        "Separate except blocks for each exception type"
      ],
      "metadata": {
        "id": "ClgegHz8mZLM"
      }
    },
    {
      "cell_type": "markdown",
      "source": [
        "8. What is the purpose of the with statement when handling files in Python?\n",
        "- The with statement simplifies file handling by automatically closing files after their block of code is executed, even if an exception occurs. This eliminates the need for explicit file closure."
      ],
      "metadata": {
        "id": "WlOD9fxTmZIE"
      }
    },
    {
      "cell_type": "markdown",
      "source": [
        "9. What is the difference between multithreading and multiprocessing?\n",
        "\n",
        "-  Multithreading: Uses threads within a single process to perform tasks concurrently. Threads share memory space.\n",
        "\n",
        "- Multiprocessing: Creates separate processes that run independently and have their own memory space. It is better for CPU-bound tasks."
      ],
      "metadata": {
        "id": "ZmsE55brmZE9"
      }
    },
    {
      "cell_type": "markdown",
      "source": [
        "10. What are the advantages of using logging in a program?\n",
        "- Logging offers several benefits:\n",
        "\n",
        "(a)Helps debug issues by providing detailed information about program execution.\n",
        "\n",
        "(B)Tracks application performance and errors systematically.\n",
        "\n",
        "(C)Reduces reliance on print statements, enabling better scalability"
      ],
      "metadata": {
        "id": "0LvqZVpwmZB5"
      }
    },
    {
      "cell_type": "markdown",
      "source": [
        "11. What is memory management in Python?\n",
        "- Python handles memory using a private heap and automatic garbage collection."
      ],
      "metadata": {
        "id": "IAoW5geXmY-M"
      }
    },
    {
      "cell_type": "markdown",
      "source": [
        "12. What are the basic steps involved in exception handling in Python?\n",
        "\n",
        "\n",
        "1. try: Run risky code\n",
        "\n",
        "2. except: Handle errors\n",
        "\n",
        "3. else: Run if no exception\n",
        "\n",
        "4. finally: Always run cleanup"
      ],
      "metadata": {
        "id": "jJeHFYOHmY69"
      }
    },
    {
      "cell_type": "markdown",
      "source": [
        "13. Why is memory management important in Python?\n",
        "- Efficient memory management prevents memory leaks, optimizes resource usage, and ensures smooth program execution. It is crucial for applications with high memory demands"
      ],
      "metadata": {
        "id": "fQpjs-pamYxK"
      }
    },
    {
      "cell_type": "markdown",
      "source": [
        "14. What is the role of try and except in exception handling?\n",
        "- The try block contains code that might raise exceptions, while the except block handles specific exceptions gracefully without crashing the program."
      ],
      "metadata": {
        "id": "ukBHQGCXqLwf"
      }
    },
    {
      "cell_type": "markdown",
      "source": [
        "15. How does Python's garbage collection system work?\n",
        "\n",
        "a. Reference Counting: Tracks object references; deletes objects when count reaches zero.\n",
        "\n",
        "b. Cyclic Garbage Collection: Detects and removes circular references among objects.\n",
        "\n"
      ],
      "metadata": {
        "id": "8JI-fT6gqcfv"
      }
    },
    {
      "cell_type": "markdown",
      "source": [
        "16. What is the purpose of the else block in exception handling?\n",
        "- The else block executes code only if no exceptions occur within the preceding try block. It is useful for separating normal execution from error handling logic."
      ],
      "metadata": {
        "id": "xB6m7GBrqonR"
      }
    },
    {
      "cell_type": "markdown",
      "source": [
        "17. What are the common logging levels in Python?\n",
        "- Python's logging levels include:\n",
        "\n",
        "1. DEBUG: Detailed information for diagnosing issues.\n",
        "\n",
        "2. INFO: General information about program execution.\n",
        "\n",
        "3. WARNING: Indications of potential problems.\n",
        "\n",
        "4. ERROR: Errors that prevent program functionality.\n",
        "\n",
        "5. CRITICAL: Severe errors requiring immediate attention"
      ],
      "metadata": {
        "id": "L3MGyVpsq0Ha"
      }
    },
    {
      "cell_type": "markdown",
      "source": [
        "18. What is the difference between os.fork() and multiprocessing in Python?\n",
        "\n",
        "\n",
        "1. os.fork(): Creates a child process by duplicating the current process; works only on Unix-like systems.\n",
        "\n",
        "2. Multiprocessing Module: Provides cross-platform support for creating processes with better abstraction and control over inter-process communication"
      ],
      "metadata": {
        "id": "Q5jTLPNjrEsE"
      }
    },
    {
      "cell_type": "markdown",
      "source": [
        "19. What is the importance of closing a file in Python?\n",
        "- Closing files ensures that all data is saved properly and resources are released. Failure to close files can lead to data corruption or resource leaks"
      ],
      "metadata": {
        "id": "E_QCXKotrUlP"
      }
    },
    {
      "cell_type": "markdown",
      "source": [
        "20. What is the difference between file.read() and file.readline() in Python?\n",
        "- **ile.read():** Reads the entire file or specified number of characters as a single string.\n",
        "\n",
        "- **file.readline():** Reads a single line from the file at a time"
      ],
      "metadata": {
        "id": "OoRYeIWxrcnj"
      }
    },
    {
      "cell_type": "markdown",
      "source": [
        "21. What is the logging module in Python used for?\n",
        "- It's used to log messages to console, files, or remote servers for debugging and tracking.\n",
        "\n"
      ],
      "metadata": {
        "id": "AwEMGpDzrptT"
      }
    },
    {
      "cell_type": "markdown",
      "source": [
        "22. What is the os module in Python used for in file handling?\n",
        "- The os module provides functions for interacting with the operating system, including file handling tasks like creating, deleting, renaming files/directories, and manipulating paths."
      ],
      "metadata": {
        "id": "MzvNI65Br15P"
      }
    },
    {
      "cell_type": "markdown",
      "source": [
        "23. What are the challenges associated with memory management in Python?\n",
        "- Challenges include managing cyclic references effectively, ensuring optimal garbage collection performance, and preventing memory leaks when dealing with large datasets or long-running applications."
      ],
      "metadata": {
        "id": "MD62gtuFsDXd"
      }
    },
    {
      "cell_type": "markdown",
      "source": [
        "24.  How do you raise an exception manually in Python?\n",
        "- Exceptions can be raised manually using the raise keyword followed by an exception type (e.g., raise ValueError(\"Invalid input\")). This allows custom error signaling during runtime."
      ],
      "metadata": {
        "id": "Fasg9vQUsZDA"
      }
    },
    {
      "cell_type": "markdown",
      "source": [
        "25. Why is it important to use multithreading in certain applications?\n",
        "- Multithreading is essential for applications requiring concurrent execution of tasks such as web servers or real-time systems where responsiveness is critical despite shared resources."
      ],
      "metadata": {
        "id": "JVSu6_f5sqL1"
      }
    },
    {
      "cell_type": "markdown",
      "source": [
        "# Practical Questions"
      ],
      "metadata": {
        "id": "5XNpMc5hs5AA"
      }
    },
    {
      "cell_type": "code",
      "source": [
        "# 1. How can you open a file for writing in Python and write a string to it?\n",
        "with open('example.txt', 'w') as file:\n",
        "    file.write('Hello, World!')"
      ],
      "metadata": {
        "id": "xyBW3Lsps1Qx"
      },
      "execution_count": null,
      "outputs": []
    },
    {
      "cell_type": "code",
      "source": [
        "# 2. Write a Python program to read the contents of a file and print each line.\n",
        "with open('example.txt', 'r') as file:\n",
        "    for line in file:\n",
        "        print(line.strip())"
      ],
      "metadata": {
        "colab": {
          "base_uri": "https://localhost:8080/"
        },
        "id": "T_J8FuLWs3Cd",
        "outputId": "c03c52f0-4214-4aff-a9fb-0decd49ffaed"
      },
      "execution_count": null,
      "outputs": [
        {
          "output_type": "stream",
          "name": "stdout",
          "text": [
            "Hello, World!\n"
          ]
        }
      ]
    },
    {
      "cell_type": "code",
      "source": [
        "# 3. How would you handle a case where the file doesn't exist while trying to open it for reading?\n",
        "try:\n",
        "    with open('nonexistent.txt', 'r') as file:\n",
        "        content = file.read()\n",
        "except FileNotFoundError:\n",
        "    print(\"File not found.\")"
      ],
      "metadata": {
        "colab": {
          "base_uri": "https://localhost:8080/"
        },
        "id": "SIY8fzHSs2-2",
        "outputId": "caf6bf7c-447d-4ff4-da8b-64af5bb2499c"
      },
      "execution_count": 11,
      "outputs": [
        {
          "output_type": "stream",
          "name": "stdout",
          "text": [
            "File not found.\n"
          ]
        }
      ]
    },
    {
      "cell_type": "code",
      "source": [
        "# 4.  Write a Python script that reads from one file and writes its content to another file.\n",
        "try:\n",
        "    with open('source.txt', 'r') as source, open('destination.txt', 'w') as destination:\n",
        "        destination.write(source.read())\n",
        "except FileNotFoundError:\n",
        "    print(\"Source file 'source.txt' not found. Please create it and add content.\")"
      ],
      "metadata": {
        "id": "v8z1hnPhs27g",
        "colab": {
          "base_uri": "https://localhost:8080/"
        },
        "outputId": "93ba5eb3-f389-4c2d-b216-937dd7c17c82"
      },
      "execution_count": 17,
      "outputs": [
        {
          "output_type": "stream",
          "name": "stdout",
          "text": [
            "Source file 'source.txt' not found. Please create it and add content.\n"
          ]
        }
      ]
    },
    {
      "cell_type": "code",
      "source": [
        "# 5. How would you catch and handle division by zero error in Python?\n",
        "try:\n",
        "    result = 10 / 0\n",
        "except ZeroDivisionError:\n",
        "    print(\"Cannot divide by zero.\")"
      ],
      "metadata": {
        "id": "8EceWm8Ys23g",
        "colab": {
          "base_uri": "https://localhost:8080/"
        },
        "outputId": "577ac499-b020-4322-b2fc-f9cd104adb2b"
      },
      "execution_count": 13,
      "outputs": [
        {
          "output_type": "stream",
          "name": "stdout",
          "text": [
            "Cannot divide by zero.\n"
          ]
        }
      ]
    },
    {
      "cell_type": "code",
      "source": [
        "# 6.  Write a Python program that logs an error message to a log file when a division by zero exception occurs\n",
        "import logging\n",
        "\n",
        "logging.basicConfig(filename='error.log', level=logging.ERROR)\n",
        "\n",
        "try:\n",
        "    result = 10 / 0\n",
        "except ZeroDivisionError:\n",
        "    logging.error(\"Division by zero occurred.\")"
      ],
      "metadata": {
        "id": "YnTbmw0cs20P",
        "colab": {
          "base_uri": "https://localhost:8080/"
        },
        "outputId": "17664af4-1c64-48de-b3f7-57d617fd411b"
      },
      "execution_count": 14,
      "outputs": [
        {
          "output_type": "stream",
          "name": "stderr",
          "text": [
            "ERROR:root:Division by zero occurred.\n"
          ]
        }
      ]
    },
    {
      "cell_type": "code",
      "source": [
        "# 7. How do you log information at different levels (INFO, ERROR, WARNING) in Python using the logging module?\n",
        "import logging\n",
        "\n",
        "logging.basicConfig(filename='app.log', level=logging.INFO)\n",
        "\n",
        "logging.info(\"This is an informational message.\")\n",
        "logging.warning(\"This is a warning message.\")\n",
        "logging.error(\"This is an error message.\")"
      ],
      "metadata": {
        "id": "XLhuWxASs2wg"
      },
      "execution_count": null,
      "outputs": []
    },
    {
      "cell_type": "code",
      "source": [
        "# 8. Write a program to handle a file opening error using exception handling.\n",
        "try:\n",
        "    with open('nonexistent.txt', 'r') as file:\n",
        "        content = file.read()\n",
        "except FileNotFoundError:\n",
        "    print(\"File not found.\")"
      ],
      "metadata": {
        "id": "hs-fZ5ZKs2s1"
      },
      "execution_count": null,
      "outputs": []
    },
    {
      "cell_type": "code",
      "source": [
        "# 9. How can you read a file line by line and store its content in a list in Python?\n",
        "with open('example.txt', 'r') as file:\n",
        "    lines = file.readlines()"
      ],
      "metadata": {
        "id": "ROrwSm1Is2p9"
      },
      "execution_count": null,
      "outputs": []
    },
    {
      "cell_type": "code",
      "source": [
        "# 10.  How can you append data to an existing file in Python?\n",
        "with open('example.txt', 'a') as file:\n",
        "    file.write('\\nAppending new data.')"
      ],
      "metadata": {
        "id": "QyDmz7dMs2m3"
      },
      "execution_count": null,
      "outputs": []
    },
    {
      "cell_type": "code",
      "source": [
        "# 11. Write a Python program that uses a try-except block to handle an error when attempting to access a\n",
        "# dictionary key that doesn't exist.\n",
        "my_dict = {'a': 1, 'b': 2}\n",
        "\n",
        "try:\n",
        "    value = my_dict['c']\n",
        "except KeyError:\n",
        "    print(\"Key 'c' does not exist in the dictionary.\")"
      ],
      "metadata": {
        "id": "e1use6_Gs2jt"
      },
      "execution_count": null,
      "outputs": []
    },
    {
      "cell_type": "code",
      "source": [
        "# 12. Write a program that demonstrates using multiple except blocks to handle different types of exceptions\n",
        "try:\n",
        "    result = 10 / 0\n",
        "except ZeroDivisionError:\n",
        "    print(\"Cannot divide by zero.\")\n",
        "except TypeError:\n",
        "    print(\"Invalid type for division.\")"
      ],
      "metadata": {
        "id": "hMeYrr_9s2hH"
      },
      "execution_count": null,
      "outputs": []
    },
    {
      "cell_type": "code",
      "source": [
        "#13. How would you check if a file exists before attempting to read it in Python?\n",
        "import os\n",
        "\n",
        "if os.path.exists('example.txt'):\n",
        "    with open('example.txt', 'r') as file:\n",
        "        content = file.read()\n",
        "else:\n",
        "    print(\"File does not exist.\")"
      ],
      "metadata": {
        "id": "Z1za9ABUs2d_"
      },
      "execution_count": null,
      "outputs": []
    },
    {
      "cell_type": "code",
      "source": [
        "#14. F Write a program that uses the logging module to log both informational and error messages.\n",
        "import logging\n",
        "\n",
        "logging.basicConfig(filename='app.log', level=logging.INFO)\n",
        "\n",
        "logging.info(\"This is an informational message.\")\n",
        "logging.error(\"This is an error message.\")"
      ],
      "metadata": {
        "id": "2OJ9okWds2a5"
      },
      "execution_count": null,
      "outputs": []
    },
    {
      "cell_type": "code",
      "source": [
        "#15. Write a Python program that prints the content of a file and handles the case when the file is empty.\n",
        "try:\n",
        "    with open('example.txt', 'r') as file:\n",
        "        content = file.read()\n",
        "        if not content:\n",
        "            print(\"File is empty.\")\n",
        "        else:\n",
        "            print(content)\n",
        "except FileNotFoundError:\n",
        "    print(\"File not found.\")"
      ],
      "metadata": {
        "id": "Ucgxk-khs2YA"
      },
      "execution_count": null,
      "outputs": []
    },
    {
      "cell_type": "code",
      "source": [
        "#16. Demonstrate how to use memory profiling to check the memory usage of a small program.\n",
        "import tracemalloc\n",
        "\n",
        "tracemalloc.start()\n",
        "\n",
        "# Your program code here\n"
      ],
      "metadata": {
        "id": "SUnEZHeFs2U6"
      },
      "execution_count": null,
      "outputs": []
    },
    {
      "cell_type": "code",
      "source": [
        "#17.  Write a Python program to create and write a list of numbers to a file, one number per line\n",
        "numbers = [1, 2, 3, 4, 5]\n",
        "\n",
        "with open('numbers.txt', 'w') as file:\n",
        "    for num in numbers:\n",
        "        file.write(str(num) + '\\n')"
      ],
      "metadata": {
        "id": "p6idc7R5s2SB"
      },
      "execution_count": null,
      "outputs": []
    },
    {
      "cell_type": "code",
      "source": [
        "#18.  How would you implement a basic logging setup that logs to a file with rotation after 1MB?\n",
        "import logging\n",
        "from logging.handlers import RotatingFileHandler\n",
        "\n",
        "logger = logging.getLogger('my_logger')\n",
        "logger.setLevel(logging.INFO)"
      ],
      "metadata": {
        "id": "Rr8pln54s2O7"
      },
      "execution_count": null,
      "outputs": []
    },
    {
      "cell_type": "code",
      "source": [
        "#19. Write a program that handles both IndexError and KeyError using a try-except block.\n",
        "try:\n",
        "    my_list = [1, 2, 3]\n",
        "    value = my_list[3]  # Raises IndexError\n",
        "    my_dict = {'a': 1}\n",
        "    value = my_dict['b']  # Raises KeyError"
      ],
      "metadata": {
        "id": "yK7WGOCss2L0"
      },
      "execution_count": null,
      "outputs": []
    },
    {
      "cell_type": "code",
      "source": [
        "#20. How would you open a file and read its contents using a context manager in Python?\n",
        "with open('example.txt', 'r') as file:\n",
        "    content = file.read()"
      ],
      "metadata": {
        "id": "epmgetDKs2Is"
      },
      "execution_count": null,
      "outputs": []
    },
    {
      "cell_type": "code",
      "source": [
        "#21. Write a Python program that reads a file and prints the number of occurrences of a specific word.\n",
        "word_to_count = 'example'\n",
        "count = 0\n",
        "\n",
        "with open('example.txt', 'r') as file:\n",
        "    for line in file:"
      ],
      "metadata": {
        "id": "pLB5MPkcs2Fm"
      },
      "execution_count": null,
      "outputs": []
    },
    {
      "cell_type": "code",
      "source": [
        "#22.  How can you check if a file is empty before attempting to read its contents?\n",
        "import os\n",
        "\n",
        "if os.path.getsize('example.txt') == 0:\n",
        "    print(\"File is empty.\")\n",
        "else:\n",
        "    with open('example.txt', 'r') as file:\n",
        "        content = file.read()"
      ],
      "metadata": {
        "id": "4ob6HJHAs2Cq"
      },
      "execution_count": null,
      "outputs": []
    },
    {
      "cell_type": "code",
      "source": [
        "#23.  Write a Python program that writes to a log file when an error occurs during file handling.\n",
        "import logging\n",
        "\n",
        "logging.basicConfig(filename='file_handling.log', level=logging.ERROR)\n",
        "\n",
        "try:\n",
        "    with open('nonexistent.txt', 'r') as file:\n",
        "        content = file.read()\n",
        "except FileNotFoundError:\n",
        "    logging.error(\"File not found.\")"
      ],
      "metadata": {
        "id": "3GJ7q2m_s1_i"
      },
      "execution_count": null,
      "outputs": []
    }
  ]
}